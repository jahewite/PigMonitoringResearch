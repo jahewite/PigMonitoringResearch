{
 "cells": [
  {
   "cell_type": "markdown",
   "id": "7a6a2bd6",
   "metadata": {},
   "source": [
    "# CSV Counting & Aggregation\n",
    "\n",
    "This notebook counts all `.csv` files under the project camera output directory pattern:\n",
    "\n",
    "`pipeline_outputs/monitoring_pipeline/piglet_rearing/Kamera*`\n",
    "\n",
    "It aggregates:\n",
    "- Number of CSV files\n",
    "- Total number of rows (across all files)\n",
    "- Total sum of columns `num_tail_detections` and `num_pig_detections` (missing columns treated as 0)\n",
    "- Total analyzed video duration derived from `start_timestamp` and `end_timestamp` columns (seconds, hours, days)\n",
    "\n",
    "Processing is streaming-friendly (iterative) and can be extended with parallelization while keeping memory usage low.\n"
   ]
  },
  {
   "cell_type": "code",
   "execution_count": 16,
   "id": "ef031889",
   "metadata": {},
   "outputs": [
    {
     "name": "stderr",
     "output_type": "stream",
     "text": [
      "[INFO] Repository root resolved: /home/jan-hendrik/home/PigMonitoringResearch\n",
      "[INFO] Base directory: /home/jan-hendrik/home/PigMonitoringResearch/pipeline_outputs/monitoring_pipeline/piglet_rearing\n",
      "[INFO] Base directory: /home/jan-hendrik/home/PigMonitoringResearch/pipeline_outputs/monitoring_pipeline/piglet_rearing\n"
     ]
    }
   ],
   "source": [
    "from __future__ import annotations\n",
    "import os\n",
    "from pathlib import Path\n",
    "import json\n",
    "import logging\n",
    "from typing import List, Dict, Any, Optional, Tuple\n",
    "\n",
    "import pandas as pd\n",
    "\n",
    "try:\n",
    "    from tqdm import tqdm\n",
    "    TQDM_AVAILABLE = True\n",
    "except ImportError:  # fallback if tqdm missing\n",
    "    TQDM_AVAILABLE = False\n",
    "    def tqdm(x, **kwargs):\n",
    "        return x\n",
    "\n",
    "# ------------------ Dynamic path setup ------------------\n",
    "# Resolve repository root by moving up until we find a marker file (e.g. README.md or .git)\n",
    "CURRENT_NOTEBOOK_DIR = Path(__file__).resolve().parent if '__file__' in globals() else Path.cwd()\n",
    "CANDIDATE = CURRENT_NOTEBOOK_DIR\n",
    "REPO_ROOT = None\n",
    "for parent in [CANDIDATE, *CANDIDATE.parents]:\n",
    "    if (parent / 'README.md').exists() and (parent / 'pipeline_outputs').exists():\n",
    "        REPO_ROOT = parent\n",
    "        break\n",
    "if REPO_ROOT is None:\n",
    "    # Fallback: assume current working directory is repo root\n",
    "    REPO_ROOT = CURRENT_NOTEBOOK_DIR\n",
    "\n",
    "# Base directory pattern for camera CSV files (no user-specific absolute path)\n",
    "BASE_DIR = REPO_ROOT / 'pipeline_outputs' / 'monitoring_pipeline' / 'piglet_rearing'\n",
    "CAMERA_GLOB_PATTERN = 'Kamera*/**/*.csv'\n",
    "OUTPUT_DIR = CURRENT_NOTEBOOK_DIR\n",
    "OUTPUT_DIR.mkdir(parents=True, exist_ok=True)\n",
    "\n",
    "# ------------------ Logging configuration ------------------\n",
    "logging.basicConfig(level=logging.INFO, format='[%(levelname)s] %(message)s')\n",
    "logger = logging.getLogger('csv_aggregation')\n",
    "logger.info(f\"Repository root resolved: {REPO_ROOT}\")\n",
    "logger.info(f\"Base directory: {BASE_DIR}\")\n"
   ]
  },
  {
   "cell_type": "code",
   "execution_count": 23,
   "id": "2203f922",
   "metadata": {},
   "outputs": [
    {
     "name": "stderr",
     "output_type": "stream",
     "text": [
      "[INFO] CSV files found: 1411\n"
     ]
    },
    {
     "name": "stdout",
     "output_type": "stream",
     "text": [
      "Number of CSV files found: 1411\n"
     ]
    }
   ],
   "source": [
    "# List all relevant CSV files\n",
    "csv_files: List[Path] = []\n",
    "if BASE_DIR.exists():\n",
    "    for p in BASE_DIR.rglob(CAMERA_GLOB_PATTERN):\n",
    "        if p.is_file():\n",
    "            csv_files.append(p)\n",
    "else:\n",
    "    logger.warning(f\"Base directory does not exist: {BASE_DIR}\")\n",
    "\n",
    "# Sort for reproducibility\n",
    "csv_files = sorted(csv_files)\n",
    "num_csv_files = len(csv_files)\n",
    "print(f\"Number of CSV files found: {num_csv_files}\")\n",
    "logger.info(f\"CSV files found: {num_csv_files}\")\n"
   ]
  },
  {
   "cell_type": "code",
   "execution_count": 24,
   "id": "e2dd0d14",
   "metadata": {},
   "outputs": [],
   "source": [
    "# Helper function: load & validate\n",
    "REQUIRED_COLUMNS = ['num_tail_detections', 'num_pig_detections']\n",
    "\n",
    "def load_and_validate(path: Path, usecols: Optional[List[str]] = None) -> pd.DataFrame:\n",
    "    try:\n",
    "        df = pd.read_csv(path, low_memory=False, usecols=usecols)\n",
    "    except Exception as e:\n",
    "        logger.warning(f\"Error reading {path.name}: {e}\")\n",
    "        raise\n",
    "    # Normalize column naming in case of legacy 'Num_tail_detections'\n",
    "    if 'Num_tail_detections' in df.columns and 'num_tail_detections' not in df.columns:\n",
    "        df = df.rename(columns={'Num_tail_detections': 'num_tail_detections'})\n",
    "    for col in REQUIRED_COLUMNS:\n",
    "        if col not in df.columns:\n",
    "            df[col] = 0\n",
    "    return df"
   ]
  },
  {
   "cell_type": "code",
   "execution_count": 29,
   "id": "4cc460da",
   "metadata": {},
   "outputs": [
    {
     "name": "stderr",
     "output_type": "stream",
     "text": [
      "Processing CSV: 100%|██████████| 1411/1411 [00:43<00:00, 32.59it/s]"
     ]
    },
    {
     "name": "stdout",
     "output_type": "stream",
     "text": [
      "Total rows: 38560799\n",
      "Sum num_tail_detections: 285018249\n",
      "Sum num_pig_detections: 764990250\n",
      "Total video seconds: 38560799\n",
      "Total video hours: 10711.33\n",
      "Total video days: 446.31\n",
      "Files missing timestamp columns: 0\n",
      "Skipped files: 0\n"
     ]
    },
    {
     "name": "stderr",
     "output_type": "stream",
     "text": [
      "\n"
     ]
    }
   ],
   "source": [
    "# Aggregation: total rows & sums (serial) + video duration\n",
    "from datetime import datetime\n",
    "\n",
    "TIME_COLUMNS = ('start_timestamp', 'end_timestamp')\n",
    "\n",
    "def parse_duration_seconds(df: pd.DataFrame) -> int:\n",
    "    if not all(c in df.columns for c in TIME_COLUMNS):\n",
    "        return 0\n",
    "    # Expect strings like '2021-12-28 07:47:04'\n",
    "    try:\n",
    "        start = pd.to_datetime(df['start_timestamp'], errors='coerce')\n",
    "        end = pd.to_datetime(df['end_timestamp'], errors='coerce')\n",
    "        deltas = (end - start).dt.total_seconds()\n",
    "        return int(deltas.fillna(0).sum())\n",
    "    except Exception:\n",
    "        return 0\n",
    "\n",
    "total_rows = 0\n",
    "total_tail = 0\n",
    "total_pig = 0\n",
    "skipped_files = 0\n",
    "total_video_seconds = 0\n",
    "missing_ts_files = 0\n",
    "\n",
    "if num_csv_files == 0:\n",
    "    logger.warning('No CSV files found – aborting aggregation.')\n",
    "else:\n",
    "    iterator = tqdm(csv_files, desc='Processing CSV', disable=not TQDM_AVAILABLE)\n",
    "    for csv_path in iterator:\n",
    "        try:\n",
    "            df = load_and_validate(csv_path)\n",
    "        except Exception:\n",
    "            skipped_files += 1\n",
    "            continue\n",
    "        rows = len(df)\n",
    "        total_rows += rows\n",
    "        total_tail += df['num_tail_detections'].sum()\n",
    "        total_pig += df['num_pig_detections'].sum()\n",
    "        if all(c in df.columns for c in TIME_COLUMNS):\n",
    "            total_video_seconds += parse_duration_seconds(df)\n",
    "        else:\n",
    "            missing_ts_files += 1\n",
    "\n",
    "video_hours = total_video_seconds / 3600 if total_video_seconds else 0\n",
    "video_days = video_hours / 24 if total_video_seconds else 0\n",
    "\n",
    "print(f\"Total rows: {total_rows}\")\n",
    "print(f\"Sum num_tail_detections: {total_tail}\")\n",
    "print(f\"Sum num_pig_detections: {total_pig}\")\n",
    "print(f\"Total video seconds: {total_video_seconds}\")\n",
    "print(f\"Total video hours: {video_hours:.2f}\")\n",
    "print(f\"Total video days: {video_days:.2f}\")\n",
    "print(f\"Files missing timestamp columns: {missing_ts_files}\")\n",
    "print(f\"Skipped files: {skipped_files}\")\n"
   ]
  },
  {
   "cell_type": "code",
   "execution_count": 32,
   "id": "72e249b7",
   "metadata": {},
   "outputs": [
    {
     "data": {
      "text/html": [
       "<div>\n",
       "<style scoped>\n",
       "    .dataframe tbody tr th:only-of-type {\n",
       "        vertical-align: middle;\n",
       "    }\n",
       "\n",
       "    .dataframe tbody tr th {\n",
       "        vertical-align: top;\n",
       "    }\n",
       "\n",
       "    .dataframe thead th {\n",
       "        text-align: right;\n",
       "    }\n",
       "</style>\n",
       "<table border=\"1\" class=\"dataframe\">\n",
       "  <thead>\n",
       "    <tr style=\"text-align: right;\">\n",
       "      <th></th>\n",
       "      <th>csv_files</th>\n",
       "      <th>total_rows</th>\n",
       "      <th>sum_num_tail_detections</th>\n",
       "      <th>sum_num_pig_detections</th>\n",
       "      <th>total_video_seconds</th>\n",
       "      <th>total_video_hours</th>\n",
       "      <th>total_video_days</th>\n",
       "      <th>files_missing_timestamps</th>\n",
       "      <th>skipped_files</th>\n",
       "    </tr>\n",
       "  </thead>\n",
       "  <tbody>\n",
       "    <tr>\n",
       "      <th>0</th>\n",
       "      <td>1411</td>\n",
       "      <td>38560799</td>\n",
       "      <td>285018249</td>\n",
       "      <td>764990250</td>\n",
       "      <td>38560799</td>\n",
       "      <td>10711.33</td>\n",
       "      <td>446.31</td>\n",
       "      <td>0</td>\n",
       "      <td>0</td>\n",
       "    </tr>\n",
       "  </tbody>\n",
       "</table>\n",
       "</div>"
      ],
      "text/plain": [
       "   csv_files  total_rows  sum_num_tail_detections  sum_num_pig_detections  \\\n",
       "0       1411    38560799                285018249               764990250   \n",
       "\n",
       "   total_video_seconds  total_video_hours  total_video_days  \\\n",
       "0             38560799           10711.33            446.31   \n",
       "\n",
       "   files_missing_timestamps  skipped_files  \n",
       "0                         0              0  "
      ]
     },
     "execution_count": 32,
     "metadata": {},
     "output_type": "execute_result"
    }
   ],
   "source": [
    "# Summary as DataFrame / dict\n",
    "summary = {\n",
    "    'csv_files': num_csv_files,\n",
    "    'total_rows': total_rows,\n",
    "    'sum_num_tail_detections': int(total_tail),\n",
    "    'sum_num_pig_detections': int(total_pig),\n",
    "    'total_video_seconds': int(total_video_seconds),\n",
    "    'total_video_hours': round(video_hours, 2),\n",
    "    'total_video_days': round(video_days, 2),\n",
    "    'files_missing_timestamps': missing_ts_files,\n",
    "    'skipped_files': skipped_files\n",
    "}\n",
    "summary_df = pd.DataFrame([summary])\n",
    "summary_df\n"
   ]
  },
  {
   "cell_type": "code",
   "execution_count": 31,
   "id": "727a3dde",
   "metadata": {},
   "outputs": [
    {
     "name": "stdout",
     "output_type": "stream",
     "text": [
      "Summary written: /home/jan-hendrik/home/PigMonitoringResearch/data_exploration/csv_aggregat_summary.csv\n",
      "Summary written: /home/jan-hendrik/home/PigMonitoringResearch/data_exploration/csv_aggregat_summary.json\n"
     ]
    }
   ],
   "source": [
    "# Persist results\n",
    "csv_out = OUTPUT_DIR / 'csv_aggregat_summary.csv'\n",
    "json_out = OUTPUT_DIR / 'csv_aggregat_summary.json'\n",
    "summary_df.to_csv(csv_out, index=False)\n",
    "with open(json_out, 'w') as f:\n",
    "    json.dump(summary, f, indent=2)\n",
    "print(f\"Summary written: {csv_out}\")\n",
    "print(f\"Summary written: {json_out}\")\n"
   ]
  }
 ],
 "metadata": {
  "kernelspec": {
   "display_name": "pig_posture_pipeline",
   "language": "python",
   "name": "python3"
  },
  "language_info": {
   "codemirror_mode": {
    "name": "ipython",
    "version": 3
   },
   "file_extension": ".py",
   "mimetype": "text/x-python",
   "name": "python",
   "nbconvert_exporter": "python",
   "pygments_lexer": "ipython3",
   "version": "3.9.21"
  }
 },
 "nbformat": 4,
 "nbformat_minor": 5
}
